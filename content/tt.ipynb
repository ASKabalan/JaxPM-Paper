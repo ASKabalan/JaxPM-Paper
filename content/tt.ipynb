{
 "cells": [
  {
   "cell_type": "code",
   "execution_count": 19,
   "metadata": {},
   "outputs": [
    {
     "name": "stdout",
     "output_type": "stream",
     "text": [
      "The autoreload extension is already loaded. To reload it, use:\n",
      "  %reload_ext autoreload\n"
     ]
    }
   ],
   "source": [
    "%load_ext autoreload\n",
    "%autoreload 2\n",
    "import jax\n",
    "import jax.numpy as jnp\n",
    "from diffrax import (\n",
    "    ODETerm, diffeqsolve,\n",
    "    SaveAt, RecursiveCheckpointAdjoint\n",
    ")\n",
    "from tools.integrate import integrate \n",
    "from tools.semi_implicite_euler import SemiImplicitEuler\n",
    "\n",
    "jax.config.update(\"jax_enable_x64\", True)\n",
    "\n",
    "def velocity_fn(t, a, args):\n",
    "    \"\"\"\n",
    "    Example system: dv/dt = -alpha * a + sin(t).\n",
    "    We incorporate a parameter alpha from 'args'.\n",
    "    \"\"\"\n",
    "    return -args * a + jnp.sin(t)\n",
    "\n",
    "def acceleration_fn(t, v, args):\n",
    "    \"\"\"\n",
    "    Example system: da/dt = -alpha * v + sin(t).\n",
    "    Also depends on the same parameter alpha.\n",
    "    \"\"\"\n",
    "    return -args * v + jnp.sin(t)\n",
    "\n",
    "\n",
    "# Global solver settings\n",
    "t0 = 0.0\n",
    "t1 = 1.\n",
    "dt0 = 0.01\n",
    "\n",
    "# We'll store solutions at a few points in time\n",
    "saveat = SaveAt(t1=True)\n",
    "\n",
    "# For demonstration, let's define a system for Diffrax usage:\n",
    "terms = (ODETerm(velocity_fn), ODETerm(acceleration_fn))\n",
    "diffrax_solver = SemiImplicitEuler()\n",
    "\n",
    "y0 = (0.0, 0.0)\n",
    "args = 2.\n",
    "\n",
    "\n",
    "# For reference, a \"Diffrax-based\" solution function:\n",
    "  \n",
    "def diffrax_integrate(y0 , args):\n",
    "  sol = diffeqsolve(\n",
    "          terms,\n",
    "          diffrax_solver,\n",
    "          t0=t0, t1=t1, dt0=dt0,\n",
    "          y0=y0,\n",
    "          args=args,\n",
    "          saveat=saveat,\n",
    "          adjoint=RecursiveCheckpointAdjoint(checkpoints=10),\n",
    "      )\n",
    "  return jax.tree.map(lambda x: x[0], sol.ys)\n"
   ]
  },
  {
   "cell_type": "code",
   "execution_count": 20,
   "metadata": {},
   "outputs": [
    {
     "data": {
      "text/plain": [
       "(Array(0.26026448, dtype=float64), Array(0.24753947, dtype=float64))"
      ]
     },
     "execution_count": 20,
     "metadata": {},
     "output_type": "execute_result"
    }
   ],
   "source": [
    "diffrax_integrate(y0, args)"
   ]
  },
  {
   "cell_type": "code",
   "execution_count": 21,
   "metadata": {},
   "outputs": [
    {
     "data": {
      "text/plain": [
       "(Array(0.26026448, dtype=float64), Array(0.24753947, dtype=float64))"
      ]
     },
     "execution_count": 21,
     "metadata": {},
     "output_type": "execute_result"
    }
   ],
   "source": [
    "integrate(y0, args, terms,solver=diffrax_solver, t0=t0, t1=t1, dt0=dt0)"
   ]
  },
  {
   "cell_type": "code",
   "execution_count": 22,
   "metadata": {},
   "outputs": [
    {
     "data": {
      "text/plain": [
       "((Array(3.72580927, dtype=float64, weak_type=True),\n",
       "  Array(-3.62655369, dtype=float64, weak_type=True)),\n",
       " (Array(-3.62655369, dtype=float64, weak_type=True),\n",
       "  Array(3.79834034, dtype=float64, weak_type=True)))"
      ]
     },
     "execution_count": 22,
     "metadata": {},
     "output_type": "execute_result"
    }
   ],
   "source": [
    "jax.jacrev(diffrax_integrate)(y0, args)"
   ]
  },
  {
   "cell_type": "code",
   "execution_count": 23,
   "metadata": {},
   "outputs": [
    {
     "data": {
      "text/plain": [
       "((Array(3.72580927, dtype=float64, weak_type=True),\n",
       "  Array(-3.62655369, dtype=float64, weak_type=True)),\n",
       " (Array(-3.62655369, dtype=float64, weak_type=True),\n",
       "  Array(3.79834034, dtype=float64, weak_type=True)))"
      ]
     },
     "execution_count": 23,
     "metadata": {},
     "output_type": "execute_result"
    }
   ],
   "source": [
    "jax.jacrev(integrate)(y0, args, terms,solver=diffrax_solver, t0=t0, t1=t1, dt0=dt0)"
   ]
  },
  {
   "cell_type": "code",
   "execution_count": 24,
   "metadata": {},
   "outputs": [
    {
     "data": {
      "text/plain": [
       "(Array(-0.05741368, dtype=float64, weak_type=True),\n",
       " Array(-0.06787917, dtype=float64, weak_type=True))"
      ]
     },
     "execution_count": 24,
     "metadata": {},
     "output_type": "execute_result"
    }
   ],
   "source": [
    "jax.jacrev(diffrax_integrate , argnums=1)(y0, args)"
   ]
  },
  {
   "cell_type": "code",
   "execution_count": 28,
   "metadata": {},
   "outputs": [
    {
     "data": {
      "text/plain": [
       "(Array(-0.05741368, dtype=float64, weak_type=True),\n",
       " Array(-0.06787917, dtype=float64, weak_type=True))"
      ]
     },
     "execution_count": 28,
     "metadata": {},
     "output_type": "execute_result"
    }
   ],
   "source": [
    "jax.jacrev(integrate , argnums=1)(y0, args, terms,solver=diffrax_solver, t0=t0, t1=t1, dt0=dt0)"
   ]
  },
  {
   "cell_type": "code",
   "execution_count": 5,
   "metadata": {},
   "outputs": [
    {
     "name": "stdout",
     "output_type": "stream",
     "text": [
      "STEP t0 0.0 , t1 0.1 , y0 (Array(0., dtype=float64), Array(0., dtype=float64)) , y1 (Array(0., dtype=float64), Array(0., dtype=float64))\n",
      "STEP t0 0.1 , t1 0.2 , y0 (Array(0., dtype=float64), Array(0., dtype=float64)) , y1 (Array(0.00998334, dtype=float64), Array(0.00798667, dtype=float64))\n"
     ]
    },
    {
     "data": {
      "text/plain": [
       "(Array(0.00998334, dtype=float64), Array(0.00798667, dtype=float64))"
      ]
     },
     "execution_count": 5,
     "metadata": {},
     "output_type": "execute_result"
    }
   ],
   "source": [
    "from tools.integrate import integrate\n",
    "\n",
    "integrate(y0, args , terms , diffrax_solver , t0 , t1 , dt0)"
   ]
  },
  {
   "cell_type": "code",
   "execution_count": 12,
   "metadata": {},
   "outputs": [
    {
     "name": "stdout",
     "output_type": "stream",
     "text": [
      "t0: 0.0, t1: 0.2, dt0: 0.1\n",
      "STEP t0 0.0 , t1 0.1 , y0 (Array(0., dtype=float64), Array(0., dtype=float64)) , y1 (Array(0., dtype=float64), Array(0., dtype=float64))\n",
      "STEP t0 0.1 , t1 0.2 , y0 (Array(0., dtype=float64), Array(0., dtype=float64)) , y1 (Array(0.00998334, dtype=float64), Array(0.00798667, dtype=float64))\n",
      "REV t0 0.1 , t1 0.2 , y0 (Array(0., dtype=float64), Array(0., dtype=float64)) , y1 (Array(0.00998334, dtype=float64), Array(0.00798667, dtype=float64))\n",
      "STEP t0 0.1 , t1 0.2 , y0 (Array(0., dtype=float64), Array(0., dtype=float64)) , y1 (Array(0.00998334, dtype=float64), Array(0.00798667, dtype=float64))\n",
      "REV t0 0.0 , t1 0.1 , y0 (Array(0., dtype=float64), Array(0., dtype=float64)) , y1 (Array(0., dtype=float64), Array(0., dtype=float64))\n",
      "STEP t0 0.0 , t1 0.1 , y0 (Array(0., dtype=float64), Array(0., dtype=float64)) , y1 (Array(0., dtype=float64), Array(0., dtype=float64))\n"
     ]
    },
    {
     "data": {
      "text/plain": [
       "((Array(1.04, dtype=float64, weak_type=True),\n",
       "  Array(-0.408, dtype=float64, weak_type=True)),\n",
       " (Array(-0.408, dtype=float64, weak_type=True),\n",
       "  Array(1.1216, dtype=float64, weak_type=True)))"
      ]
     },
     "execution_count": 12,
     "metadata": {},
     "output_type": "execute_result"
    }
   ],
   "source": [
    "jax.jacrev(integrate)(y0, args , terms , diffrax_solver , t0 , t1 , dt0)"
   ]
  },
  {
   "cell_type": "code",
   "execution_count": 297,
   "metadata": {},
   "outputs": [
    {
     "name": "stdout",
     "output_type": "stream",
     "text": [
      "t 0.2\n",
      "t 0.1\n"
     ]
    },
    {
     "data": {
      "text/plain": [
       "(None, None)"
      ]
     },
     "execution_count": 297,
     "metadata": {},
     "output_type": "execute_result"
    }
   ],
   "source": [
    "def body(carry , t):\n",
    "  jax.debug.print(\"t {a}\" , a=t)\n",
    "  return None , None\n",
    "\n",
    "\n",
    "jax.lax.scan(body , None , jnp.arange(t1 , t0 , -dt0))"
   ]
  },
  {
   "cell_type": "code",
   "execution_count": 304,
   "metadata": {},
   "outputs": [],
   "source": [
    "def jax_integrate(y0 , args):\n",
    "  def forward_step(carry , t0):\n",
    "      y, args = carry\n",
    "      t1 = t0 + dt0\n",
    "      y_next , _ , _ ,_ , _ = diffrax_solver.step(terms, t0, t1 ,  y, args , solver_state=None , made_jump=False)\n",
    "      return (y_next, args), None\n",
    "\n",
    "\n",
    "  init_carry = (y0, args)\n",
    "\n",
    "  jax_sol , _ = jax.lax.scan(forward_step, init_carry, jnp.arange(t0, t1, dt0))\n",
    "\n",
    "  return jax_sol[0]\n",
    "\n",
    "\n",
    "\n",
    "@jax.custom_vjp\n",
    "def integrate(y0 , args):\n",
    "  def forward_step(carry , t0):\n",
    "      y, args = carry\n",
    "      t1 = t0 + dt0\n",
    "      y_next , _ , _ ,_ , _ = diffrax_solver.step(terms, t0, t1 ,  y, args , solver_state=None , made_jump=False)\n",
    "      return (y_next, args), None\n",
    "\n",
    "\n",
    "  init_carry = (y0, args)\n",
    "\n",
    "  jax_sol , _ = jax.lax.scan(forward_step, init_carry, jnp.arange(t0, t1, dt0))\n",
    "\n",
    "  return jax_sol[0]\n",
    "\n",
    "\n",
    "def integrate_fwd(y0 , args):\n",
    "  return integrate(y0 , args) , (integrate(y0 , args), args)\n",
    "\n",
    "\n",
    "def integrate_bwd(res , ct):\n",
    "\n",
    "  y1 , args = res\n",
    "  d_args = jax.tree.map(jnp.zeros_like , args)\n",
    "\n",
    "  def step(carry , t1):\n",
    "\n",
    "    y , dy , d_args = carry\n",
    "    t0 = t1 - dt0\n",
    "    y_prev  = diffrax_solver.reverse(terms, t0, t1 ,  y, args , solver_state=None , made_jump=False)\n",
    "\n",
    "    xct , yct = dy\n",
    "\n",
    "    \n",
    "    def _to_vjp(y , z_args):\n",
    "      y_next , _ , _ ,_ , _ = diffrax_solver.step(terms, t0, t1 ,  y, z_args , solver_state=None , made_jump=False)\n",
    "      return y_next\n",
    "\n",
    "    _ , f_vjp = jax.vjp(_to_vjp , y_prev , args)\n",
    "\n",
    "    dy , dargs = f_vjp(dy)\n",
    "\n",
    "\n",
    "    new_d_args = jax.tree.map(jnp.add , d_args , dargs)\n",
    "    \n",
    "    return (y_prev, dy ,  new_d_args), None\n",
    "\n",
    "  init_carry = (y1, ct ,  d_args)\n",
    "  (y , d_y , dargs) , _ = jax.lax.scan(step, init_carry, jnp.arange(t1, t0, -dt0))\n",
    "\n",
    "\n",
    "  return d_y , d_args\n",
    "\n",
    "integrate.defvjp(integrate_fwd , integrate_bwd)"
   ]
  },
  {
   "cell_type": "code",
   "execution_count": 299,
   "metadata": {},
   "outputs": [
    {
     "name": "stdout",
     "output_type": "stream",
     "text": [
      "STEP t0 0.0 , t1 0.1 , y0 (Array(0., dtype=float64), Array(0., dtype=float64)) , y1 (Array(0., dtype=float64), Array(0., dtype=float64))\n",
      "STEP t0 0.1 , t1 0.2 , y0 (Array(0., dtype=float64), Array(0., dtype=float64)) , y1 (Array(0.00998334, dtype=float64), Array(0.00798667, dtype=float64))\n"
     ]
    },
    {
     "data": {
      "text/plain": [
       "(Array(0.00998334, dtype=float64), Array(0.00798667, dtype=float64))"
      ]
     },
     "execution_count": 299,
     "metadata": {},
     "output_type": "execute_result"
    }
   ],
   "source": [
    "y1 = integrate(y0, args)\n",
    "y1"
   ]
  },
  {
   "cell_type": "code",
   "execution_count": 300,
   "metadata": {},
   "outputs": [
    {
     "name": "stdout",
     "output_type": "stream",
     "text": [
      "STEP t0 0.0 , t1 0.1 , y0 (Array(0., dtype=float64), Array(0., dtype=float64)) , y1 (Array(0., dtype=float64), Array(0., dtype=float64))\n",
      "STEP t0 0.1 , t1 0.2 , y0 (Array(0., dtype=float64), Array(0., dtype=float64)) , y1 (Array(0.00998334, dtype=float64), Array(0.00798667, dtype=float64))\n"
     ]
    },
    {
     "data": {
      "text/plain": [
       "(Array(0.00998334, dtype=float64), Array(0.00798667, dtype=float64))"
      ]
     },
     "execution_count": 300,
     "metadata": {},
     "output_type": "execute_result"
    }
   ],
   "source": [
    "jax_integrate(y0, args)"
   ]
  },
  {
   "cell_type": "code",
   "execution_count": 303,
   "metadata": {},
   "outputs": [
    {
     "data": {
      "text/plain": [
       "(Array(0., dtype=float64, weak_type=True),\n",
       " Array(-0.00099833, dtype=float64, weak_type=True))"
      ]
     },
     "execution_count": 303,
     "metadata": {},
     "output_type": "execute_result"
    }
   ],
   "source": [
    "jax.jacrev(jax_integrate , argnums=1)(y0, args)"
   ]
  },
  {
   "cell_type": "code",
   "execution_count": 294,
   "metadata": {},
   "outputs": [
    {
     "name": "stdout",
     "output_type": "stream",
     "text": [
      "STEP t0 0.0 , t1 0.1 , y0 (Array(0., dtype=float64), Array(0., dtype=float64)) , y1 (Array(0., dtype=float64), Array(0., dtype=float64))\n",
      "STEP t0 0.1 , t1 0.2 , y0 (Array(0., dtype=float64), Array(0., dtype=float64)) , y1 (Array(0.00998334, dtype=float64), Array(0.00798667, dtype=float64))\n",
      "STEP t0 0.0 , t1 0.1 , y0 (Array(0., dtype=float64), Array(0., dtype=float64)) , y1 (Array(0., dtype=float64), Array(0., dtype=float64))\n",
      "STEP t0 0.1 , t1 0.2 , y0 (Array(0., dtype=float64), Array(0., dtype=float64)) , y1 (Array(0.00998334, dtype=float64), Array(0.00798667, dtype=float64))\n",
      "REV t0 0.1 , t1 0.2 , y0 (Array(0., dtype=float64), Array(0., dtype=float64)) , y1 (Array(0.00998334, dtype=float64), Array(0.00798667, dtype=float64))\n",
      "STEP t0 0.1 , t1 0.2 , y0 (Array(0., dtype=float64), Array(0., dtype=float64)) , y1 (Array(0.00998334, dtype=float64), Array(0.00798667, dtype=float64))\n",
      "xct 0.0 yct 1.0 dargs -0.0009983341664682817 and d_args 0.0 args 2.0 new_d_args  -0.0009983341664682817 \n",
      "xct 1.0 yct 0.0 dargs -0.0 and d_args 0.0 args 2.0 new_d_args  0.0 \n",
      "REV t0 0.1 , t1 0.2 , y0 (Array(-0.01198001, dtype=float64), Array(-0.00998334, dtype=float64)) , y1 (Array(0., dtype=float64), Array(0., dtype=float64))\n",
      "STEP t0 0.1 , t1 0.2 , y0 (Array(-0.01198001, dtype=float64), Array(-0.00998334, dtype=float64)) , y1 (Array(0., dtype=float64), Array(0., dtype=float64))\n",
      "xct -0.2 yct 1.04 dargs -0.00040732033991905896 and d_args -0.0009983341664682817 args 2.0 new_d_args  -0.0014056545063873406 \n",
      "xct 1.0 yct -0.2 dargs 0.001038267533127013 and d_args 0.0 args 2.0 new_d_args  0.001038267533127013 \n"
     ]
    },
    {
     "data": {
      "text/plain": [
       "(Array(0., dtype=float64, weak_type=True),\n",
       " Array(0., dtype=float64, weak_type=True))"
      ]
     },
     "execution_count": 294,
     "metadata": {},
     "output_type": "execute_result"
    }
   ],
   "source": [
    "jax.jacrev(integrate , argnums=1)(y0, args)"
   ]
  },
  {
   "cell_type": "code",
   "execution_count": 233,
   "metadata": {},
   "outputs": [
    {
     "data": {
      "text/plain": [
       "({'alpha': Array(0., dtype=float64, weak_type=True)},\n",
       " {'alpha': Array(-0.00099833, dtype=float64, weak_type=True)})"
      ]
     },
     "execution_count": 233,
     "metadata": {},
     "output_type": "execute_result"
    }
   ],
   "source": [
    "jax.jacrev(diffrax_integrate, argnums=1)(y0, args)"
   ]
  },
  {
   "cell_type": "code",
   "execution_count": 271,
   "metadata": {},
   "outputs": [
    {
     "name": "stdout",
     "output_type": "stream",
     "text": [
      "REV t0 0.1 , t1 0.2 , y0 (Array(0., dtype=float64), Array(0., dtype=float64)) , y1 (Array(0.00998334, dtype=float64), Array(0.00798667, dtype=float64))\n",
      "REV t0 0.0 , t1 0.1 , y0 (Array(0., dtype=float64), Array(0., dtype=float64)) , y1 (Array(0., dtype=float64), Array(0., dtype=float64))\n"
     ]
    }
   ],
   "source": [
    "def reverse_step(carry , t1):\n",
    "    y, args = carry\n",
    "    t0 = t1 - dt0\n",
    "    y_next  = diffrax_solver.reverse(terms, t0, t1 ,  y, args , solver_state=None , made_jump=False)\n",
    "    return (y_next, args), None\n",
    "\n",
    "\n",
    "init_carry = (y1, args)\n",
    "\n",
    "jax_sol , _ = jax.lax.scan(reverse_step, init_carry, jnp.arange(t1, t0, -dt0))\n"
   ]
  },
  {
   "cell_type": "code",
   "execution_count": 79,
   "metadata": {},
   "outputs": [
    {
     "data": {
      "text/plain": [
       "((Array(-0.03840824, dtype=float64), Array(-0.03475898, dtype=float64)),\n",
       " {'alpha': Array(2., dtype=float64, weak_type=True)})"
      ]
     },
     "execution_count": 79,
     "metadata": {},
     "output_type": "execute_result"
    }
   ],
   "source": [
    "jax_sol"
   ]
  },
  {
   "cell_type": "code",
   "execution_count": null,
   "metadata": {},
   "outputs": [],
   "source": []
  }
 ],
 "metadata": {
  "kernelspec": {
   "display_name": "Python 3",
   "language": "python",
   "name": "python3"
  },
  "language_info": {
   "codemirror_mode": {
    "name": "ipython",
    "version": 3
   },
   "file_extension": ".py",
   "mimetype": "text/x-python",
   "name": "python",
   "nbconvert_exporter": "python",
   "pygments_lexer": "ipython3",
   "version": "3.10.4"
  }
 },
 "nbformat": 4,
 "nbformat_minor": 2
}

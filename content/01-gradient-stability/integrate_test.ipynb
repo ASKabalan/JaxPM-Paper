{
 "cells": [
  {
   "cell_type": "code",
   "execution_count": 11,
   "metadata": {},
   "outputs": [
    {
     "name": "stdout",
     "output_type": "stream",
     "text": [
      "The autoreload extension is already loaded. To reload it, use:\n",
      "  %reload_ext autoreload\n"
     ]
    }
   ],
   "source": [
    "%load_ext autoreload\n",
    "%autoreload 2\n",
    "import os\n",
    "import sys\n",
    "\n",
    "parent_dir = os.path.abspath(\"..\")\n",
    "sys.path.append(parent_dir)\n",
    "\n",
    "import jax\n",
    "import jax.numpy as jnp\n",
    "from jax import custom_vjp\n",
    "from functools import partial\n",
    "from typing import Any, Tuple , Optional\n",
    "import numpy as np\n",
    "from diffrax import ODETerm , diffeqsolve , SaveAt , RecursiveCheckpointAdjoint\n",
    "from equinox.internal import while_loop\n",
    "import equinox as eqx\n",
    "from tools.integrate import integrate , scan_integrate\n",
    "from tools.semi_implicite_euler import SemiImplicitEuler\n",
    "\n",
    "def check_tree(x , y):\n",
    "    return jax.tree.all(jax.tree.map(lambda x , y : jnp.allclose(x , y) , x , y))\n",
    "\n",
    "def f(t, x, z):\n",
    "    return x + z * t\n",
    "\n",
    "\n",
    "def g(t, y, z):\n",
    "    return y + z * t\n",
    "\n",
    "\n",
    "def diffrax_integrate(ode_terms , solver , y0 , args, t0 , t1 , dt0 , saveat , checkpoints=2):\n",
    "    sol = diffeqsolve(ode_terms , solver , t0 , t1 , dt0 , y0 , args , saveat=saveat , adjoint=RecursiveCheckpointAdjoint(checkpoints=checkpoints))\n",
    "    return sol.ys"
   ]
  },
  {
   "cell_type": "code",
   "execution_count": 2,
   "metadata": {},
   "outputs": [
    {
     "name": "stdout",
     "output_type": "stream",
     "text": [
      "ok for saveat [ 0.  1.  2.  3.  4.  5.  6.  7.  8.  9. 10.] with t0=True and t1=True\n",
      "ok for saveat [0. 1. 2. 3. 4. 5. 6. 7. 8. 9.] with t0=True and t1=True\n",
      "ok for saveat [ 1.  2.  3.  4.  5.  6.  7.  8.  9. 10.] with t0=True and t1=True\n",
      "ok for saveat [1. 2. 3. 4. 5. 6. 7. 8.] with t0=True and t1=True\n",
      "ok for saveat [ 0.  2.  4.  6.  8. 10.] with t0=True and t1=True\n",
      "ok for saveat [1. 3. 5. 7. 9.] with t0=True and t1=True\n",
      "ok for saveat [ 0.  2.  4.  6.  8. 10.] with t0=True and t1=True\n",
      "ok for saveat [1. 3. 5. 7. 9.] with t0=True and t1=True\n",
      "=====================================\n",
      "ok for saveat [ 0.  1.  2.  3.  4.  5.  6.  7.  8.  9. 10.] with t0=True and t1=False\n",
      "ok for saveat [0. 1. 2. 3. 4. 5. 6. 7. 8. 9.] with t0=True and t1=False\n",
      "ok for saveat [ 1.  2.  3.  4.  5.  6.  7.  8.  9. 10.] with t0=True and t1=False\n",
      "ok for saveat [1. 2. 3. 4. 5. 6. 7. 8.] with t0=True and t1=False\n",
      "ok for saveat [ 0.  2.  4.  6.  8. 10.] with t0=True and t1=False\n",
      "ok for saveat [1. 3. 5. 7. 9.] with t0=True and t1=False\n",
      "ok for saveat [ 0.  2.  4.  6.  8. 10.] with t0=True and t1=False\n",
      "ok for saveat [1. 3. 5. 7. 9.] with t0=True and t1=False\n",
      "=====================================\n",
      "ok for saveat [ 0.  1.  2.  3.  4.  5.  6.  7.  8.  9. 10.] with t0=False and t1=True\n",
      "ok for saveat [0. 1. 2. 3. 4. 5. 6. 7. 8. 9.] with t0=False and t1=True\n",
      "ok for saveat [ 1.  2.  3.  4.  5.  6.  7.  8.  9. 10.] with t0=False and t1=True\n",
      "ok for saveat [1. 2. 3. 4. 5. 6. 7. 8.] with t0=False and t1=True\n",
      "ok for saveat [ 0.  2.  4.  6.  8. 10.] with t0=False and t1=True\n",
      "ok for saveat [1. 3. 5. 7. 9.] with t0=False and t1=True\n",
      "ok for saveat [ 0.  2.  4.  6.  8. 10.] with t0=False and t1=True\n",
      "ok for saveat [1. 3. 5. 7. 9.] with t0=False and t1=True\n",
      "=====================================\n",
      "ok for saveat [ 0.  1.  2.  3.  4.  5.  6.  7.  8.  9. 10.] with t0=False and t1=False\n",
      "ok for saveat [0. 1. 2. 3. 4. 5. 6. 7. 8. 9.] with t0=False and t1=False\n",
      "ok for saveat [ 1.  2.  3.  4.  5.  6.  7.  8.  9. 10.] with t0=False and t1=False\n",
      "ok for saveat [1. 2. 3. 4. 5. 6. 7. 8.] with t0=False and t1=False\n",
      "ok for saveat [ 0.  2.  4.  6.  8. 10.] with t0=False and t1=False\n",
      "ok for saveat [1. 3. 5. 7. 9.] with t0=False and t1=False\n",
      "ok for saveat [ 0.  2.  4.  6.  8. 10.] with t0=False and t1=False\n",
      "ok for saveat [1. 3. 5. 7. 9.] with t0=False and t1=False\n",
      "=====================================\n"
     ]
    }
   ],
   "source": [
    "from itertools import product\n",
    "\n",
    "y0 = (1.0, 1.0)\n",
    "args = 2.0\n",
    "\n",
    "t0 = 0.0\n",
    "t1 = 10.0\n",
    "dt0 = 1\n",
    "ode_terms = (ODETerm(g) , ODETerm(f))\n",
    "solver = SemiImplicitEuler()\n",
    "\n",
    "for save_t0 , save_t1 in product([True, False], repeat=2):\n",
    "  # Starting and ending t0 and t1\n",
    "  saveat_t0_t1 = SaveAt(ts=jnp.arange(t0 , t1 + dt0 , dt0) , t0=save_t0 , t1=save_t1)\n",
    "  # Starting t0 and ending before t1\n",
    "  saveat_t0_tx = SaveAt(ts=jnp.arange(t0 , t1 , dt0) , t0=save_t0 , t1=save_t1)\n",
    "  # Starting after t0 and ending at t1\n",
    "  saveat_tx_t1 = SaveAt(ts=jnp.arange(t0 + dt0 , t1 + dt0 , dt0) , t0=save_t0 , t1=save_t1)\n",
    "  # Starting after t0 and ending before t1\n",
    "  saveat_tx_tx = SaveAt(ts=jnp.arange(t0 + dt0 , t1 - dt0 , dt0) , t0=save_t0 , t1=save_t1)\n",
    "  # Getting steps starting from t0 and jumping steps by 2 * dt0 before t1\n",
    "  saveat_t0_tx_2 = SaveAt(ts=jnp.arange(t0 , t1 + dt0 , 2 * dt0) , t0=save_t0 , t1=save_t1)\n",
    "  # Gettings steps starting after t0 and jumping steps by 2 * dt0 before t1\n",
    "  saveat_tx_tx_2 = SaveAt(ts=jnp.arange(t0 + dt0 , t1 + dt0 , 2 * dt0) , t0=save_t0 , t1=save_t1)\n",
    "  # Getting steps starting from t0 and jumping steps by 2 * dt0 at t1\n",
    "  saveat_t0_t1_2 = SaveAt(ts=jnp.arange(t0 , t1 + dt0 , 2 * dt0) , t0=save_t0 , t1=save_t1)\n",
    "  # Getting steps starting after t0 and jumping steps by 2 * dt0 at t1\n",
    "  saveat_tx_t1_2 = SaveAt(ts=jnp.arange(t0 + dt0 , t1 + dt0 , 2 * dt0) , t0=save_t0 , t1=save_t1)\n",
    "\n",
    "  for saveat in [saveat_t0_t1 , saveat_t0_tx , saveat_tx_t1 , saveat_tx_tx , saveat_t0_tx_2 , saveat_tx_tx_2 , saveat_t0_t1_2 , saveat_tx_t1_2]:\n",
    "\n",
    "      jax_fwd = scan_integrate(y0, args, ode_terms , solver , t0, t1, dt0 , saveat)\n",
    "      diffrax_fwd = diffrax_integrate(ode_terms , solver , y0, args, t0, t1, dt0 , saveat)\n",
    "      my_fwd = integrate(y0, args, ode_terms , solver , t0, t1, dt0 , saveat)\n",
    "\n",
    "      assert check_tree(jax_fwd , diffrax_fwd)\n",
    "      assert check_tree(jax_fwd , my_fwd)\n",
    "      print(f\"ok for saveat {saveat.subs.ts} with t0={saveat.subs.t0} and t1={saveat.subs.t1}\")\n",
    "\n",
    "  print(\"=====================================\")\n"
   ]
  },
  {
   "cell_type": "code",
   "execution_count": 5,
   "metadata": {},
   "outputs": [
    {
     "name": "stdout",
     "output_type": "stream",
     "text": [
      "ok for saveat [ 0.  1.  2.  3.  4.  5.  6.  7.  8.  9. 10.] with t0=True and t1=True\n",
      "ok for saveat [0. 1. 2. 3. 4. 5. 6. 7. 8. 9.] with t0=True and t1=True\n",
      "ok for saveat [ 1.  2.  3.  4.  5.  6.  7.  8.  9. 10.] with t0=True and t1=True\n",
      "ok for saveat [1. 2. 3. 4. 5. 6. 7. 8.] with t0=True and t1=True\n",
      "ok for saveat [ 0.  2.  4.  6.  8. 10.] with t0=True and t1=True\n",
      "ok for saveat [1. 3. 5. 7. 9.] with t0=True and t1=True\n",
      "ok for saveat [ 0.  2.  4.  6.  8. 10.] with t0=True and t1=True\n",
      "ok for saveat [1. 3. 5. 7. 9.] with t0=True and t1=True\n",
      "=====================================\n",
      "ok for saveat [ 0.  1.  2.  3.  4.  5.  6.  7.  8.  9. 10.] with t0=True and t1=False\n",
      "ok for saveat [0. 1. 2. 3. 4. 5. 6. 7. 8. 9.] with t0=True and t1=False\n",
      "ok for saveat [ 1.  2.  3.  4.  5.  6.  7.  8.  9. 10.] with t0=True and t1=False\n",
      "ok for saveat [1. 2. 3. 4. 5. 6. 7. 8.] with t0=True and t1=False\n",
      "ok for saveat [ 0.  2.  4.  6.  8. 10.] with t0=True and t1=False\n",
      "ok for saveat [1. 3. 5. 7. 9.] with t0=True and t1=False\n",
      "ok for saveat [ 0.  2.  4.  6.  8. 10.] with t0=True and t1=False\n",
      "ok for saveat [1. 3. 5. 7. 9.] with t0=True and t1=False\n",
      "=====================================\n",
      "ok for saveat [ 0.  1.  2.  3.  4.  5.  6.  7.  8.  9. 10.] with t0=False and t1=True\n",
      "ok for saveat [0. 1. 2. 3. 4. 5. 6. 7. 8. 9.] with t0=False and t1=True\n",
      "ok for saveat [ 1.  2.  3.  4.  5.  6.  7.  8.  9. 10.] with t0=False and t1=True\n",
      "ok for saveat [1. 2. 3. 4. 5. 6. 7. 8.] with t0=False and t1=True\n",
      "ok for saveat [ 0.  2.  4.  6.  8. 10.] with t0=False and t1=True\n",
      "ok for saveat [1. 3. 5. 7. 9.] with t0=False and t1=True\n",
      "ok for saveat [ 0.  2.  4.  6.  8. 10.] with t0=False and t1=True\n",
      "ok for saveat [1. 3. 5. 7. 9.] with t0=False and t1=True\n",
      "=====================================\n",
      "ok for saveat [ 0.  1.  2.  3.  4.  5.  6.  7.  8.  9. 10.] with t0=False and t1=False\n",
      "ok for saveat [0. 1. 2. 3. 4. 5. 6. 7. 8. 9.] with t0=False and t1=False\n",
      "ok for saveat [ 1.  2.  3.  4.  5.  6.  7.  8.  9. 10.] with t0=False and t1=False\n",
      "ok for saveat [1. 2. 3. 4. 5. 6. 7. 8.] with t0=False and t1=False\n",
      "ok for saveat [ 0.  2.  4.  6.  8. 10.] with t0=False and t1=False\n",
      "ok for saveat [1. 3. 5. 7. 9.] with t0=False and t1=False\n",
      "ok for saveat [ 0.  2.  4.  6.  8. 10.] with t0=False and t1=False\n",
      "ok for saveat [1. 3. 5. 7. 9.] with t0=False and t1=False\n",
      "=====================================\n"
     ]
    }
   ],
   "source": [
    "for save_t0 , save_t1 in product([True, False], repeat=2):\n",
    "  # Starting and ending t0 and t1\n",
    "  saveat_t0_t1 = SaveAt(ts=jnp.arange(t0 , t1 + dt0 , dt0) , t0=save_t0 , t1=save_t1)\n",
    "  # Starting t0 and ending before t1\n",
    "  saveat_t0_tx = SaveAt(ts=jnp.arange(t0 , t1 , dt0) , t0=save_t0 , t1=save_t1)\n",
    "  # Starting after t0 and ending at t1\n",
    "  saveat_tx_t1 = SaveAt(ts=jnp.arange(t0 + dt0 , t1 + dt0 , dt0) , t0=save_t0 , t1=save_t1)\n",
    "  # Starting after t0 and ending before t1\n",
    "  saveat_tx_tx = SaveAt(ts=jnp.arange(t0 + dt0 , t1 - dt0 , dt0) , t0=save_t0 , t1=save_t1)\n",
    "  # Getting steps starting from t0 and jumping steps by 2 * dt0 before t1\n",
    "  saveat_t0_tx_2 = SaveAt(ts=jnp.arange(t0 , t1 + dt0 , 2 * dt0) , t0=save_t0 , t1=save_t1)\n",
    "  # Gettings steps starting after t0 and jumping steps by 2 * dt0 before t1\n",
    "  saveat_tx_tx_2 = SaveAt(ts=jnp.arange(t0 + dt0 , t1 + dt0 , 2 * dt0) , t0=save_t0 , t1=save_t1)\n",
    "  # Getting steps starting from t0 and jumping steps by 2 * dt0 at t1\n",
    "  saveat_t0_t1_2 = SaveAt(ts=jnp.arange(t0 , t1 + dt0 , 2 * dt0) , t0=save_t0 , t1=save_t1)\n",
    "  # Getting steps starting after t0 and jumping steps by 2 * dt0 at t1\n",
    "  saveat_tx_t1_2 = SaveAt(ts=jnp.arange(t0 + dt0 , t1 + dt0 , 2 * dt0) , t0=save_t0 , t1=save_t1)\n",
    "\n",
    "  for saveat in [saveat_t0_t1 , saveat_t0_tx , saveat_tx_t1 , saveat_tx_tx , saveat_t0_tx_2 , saveat_tx_tx_2 , saveat_t0_t1_2 , saveat_tx_t1_2]:\n",
    "\n",
    "\n",
    "    jax_bwd = jax.jacrev(scan_integrate , argnums=(0 , 1))(y0, args, ode_terms , solver , t0, t1, dt0 , saveat)\n",
    "    diffrax_bwd = jax.jacrev(diffrax_integrate , argnums=(2 ,3))(ode_terms , solver , y0, args, t0, t1, dt0 , saveat)\n",
    "    my_bwd = jax.jacrev(integrate , argnums=(0 , 1))(y0, args, ode_terms , solver , t0, t1, dt0 , saveat)\n",
    "\n",
    "    assert check_tree(jax_bwd , diffrax_bwd)\n",
    "    assert check_tree(jax_bwd , my_bwd)\n",
    "    print(f\"ok for saveat {saveat.subs.ts} with t0={saveat.subs.t0} and t1={saveat.subs.t1}\")\n",
    "\n",
    "\n",
    "  print(\"=====================================\")\n"
   ]
  },
  {
   "cell_type": "code",
   "execution_count": 6,
   "metadata": {},
   "outputs": [
    {
     "name": "stdout",
     "output_type": "stream",
     "text": [
      "ok for saveat [ 0.  1.  2.  3.  4.  5.  6.  7.  8.  9. 10.] with t0=True and t1=True\n",
      "ok for saveat [0. 1. 2. 3. 4. 5. 6. 7. 8. 9.] with t0=True and t1=True\n",
      "ok for saveat [ 1.  2.  3.  4.  5.  6.  7.  8.  9. 10.] with t0=True and t1=True\n",
      "ok for saveat [1. 2. 3. 4. 5. 6. 7. 8.] with t0=True and t1=True\n",
      "ok for saveat [ 0.  2.  4.  6.  8. 10.] with t0=True and t1=True\n",
      "ok for saveat [1. 3. 5. 7. 9.] with t0=True and t1=True\n",
      "ok for saveat [ 0.  2.  4.  6.  8. 10.] with t0=True and t1=True\n",
      "ok for saveat [1. 3. 5. 7. 9.] with t0=True and t1=True\n",
      "ok for saveat [ 0.  1.  2.  3.  4.  5.  6.  7.  8.  9. 10.] with t0=True and t1=False\n",
      "ok for saveat [0. 1. 2. 3. 4. 5. 6. 7. 8. 9.] with t0=True and t1=False\n",
      "ok for saveat [ 1.  2.  3.  4.  5.  6.  7.  8.  9. 10.] with t0=True and t1=False\n",
      "ok for saveat [1. 2. 3. 4. 5. 6. 7. 8.] with t0=True and t1=False\n",
      "ok for saveat [ 0.  2.  4.  6.  8. 10.] with t0=True and t1=False\n",
      "ok for saveat [1. 3. 5. 7. 9.] with t0=True and t1=False\n",
      "ok for saveat [ 0.  2.  4.  6.  8. 10.] with t0=True and t1=False\n",
      "ok for saveat [1. 3. 5. 7. 9.] with t0=True and t1=False\n",
      "ok for saveat [ 0.  1.  2.  3.  4.  5.  6.  7.  8.  9. 10.] with t0=False and t1=True\n",
      "ok for saveat [0. 1. 2. 3. 4. 5. 6. 7. 8. 9.] with t0=False and t1=True\n",
      "ok for saveat [ 1.  2.  3.  4.  5.  6.  7.  8.  9. 10.] with t0=False and t1=True\n",
      "ok for saveat [1. 2. 3. 4. 5. 6. 7. 8.] with t0=False and t1=True\n",
      "ok for saveat [ 0.  2.  4.  6.  8. 10.] with t0=False and t1=True\n",
      "ok for saveat [1. 3. 5. 7. 9.] with t0=False and t1=True\n",
      "ok for saveat [ 0.  2.  4.  6.  8. 10.] with t0=False and t1=True\n",
      "ok for saveat [1. 3. 5. 7. 9.] with t0=False and t1=True\n",
      "ok for saveat [ 0.  1.  2.  3.  4.  5.  6.  7.  8.  9. 10.] with t0=False and t1=False\n",
      "ok for saveat [0. 1. 2. 3. 4. 5. 6. 7. 8. 9.] with t0=False and t1=False\n",
      "ok for saveat [ 1.  2.  3.  4.  5.  6.  7.  8.  9. 10.] with t0=False and t1=False\n",
      "ok for saveat [1. 2. 3. 4. 5. 6. 7. 8.] with t0=False and t1=False\n",
      "ok for saveat [ 0.  2.  4.  6.  8. 10.] with t0=False and t1=False\n",
      "ok for saveat [1. 3. 5. 7. 9.] with t0=False and t1=False\n",
      "ok for saveat [ 0.  2.  4.  6.  8. 10.] with t0=False and t1=False\n",
      "ok for saveat [1. 3. 5. 7. 9.] with t0=False and t1=False\n"
     ]
    }
   ],
   "source": [
    "y0 = (1.0, 1.0)\n",
    "args = 2.0\n",
    "\n",
    "t0 = 0.0\n",
    "t1 = 10.0\n",
    "dt0 = 1\n",
    "\n",
    "for save_t0 , save_t1 in product([True, False], repeat=2):\n",
    "  # Starting and ending t0 and t1\n",
    "  saveat_t0_t1 = SaveAt(ts=jnp.arange(t0 , t1 + dt0 , dt0) , t0=save_t0 , t1=save_t1)\n",
    "  # Starting t0 and ending before t1\n",
    "  saveat_t0_tx = SaveAt(ts=jnp.arange(t0 , t1 , dt0) , t0=save_t0 , t1=save_t1)\n",
    "  # Starting after t0 and ending at t1\n",
    "  saveat_tx_t1 = SaveAt(ts=jnp.arange(t0 + dt0 , t1 + dt0 , dt0) , t0=save_t0 , t1=save_t1)\n",
    "  # Starting after t0 and ending before t1\n",
    "  saveat_tx_tx = SaveAt(ts=jnp.arange(t0 + dt0 , t1 - dt0 , dt0) , t0=save_t0 , t1=save_t1)\n",
    "  # Getting steps starting from t0 and jumping steps by 2 * dt0 before t1\n",
    "  saveat_t0_tx_2 = SaveAt(ts=jnp.arange(t0 , t1 + dt0 , 2 * dt0) , t0=save_t0 , t1=save_t1)\n",
    "  # Gettings steps starting after t0 and jumping steps by 2 * dt0 before t1\n",
    "  saveat_tx_tx_2 = SaveAt(ts=jnp.arange(t0 + dt0 , t1 + dt0 , 2 * dt0) , t0=save_t0 , t1=save_t1)\n",
    "  # Getting steps starting from t0 and jumping steps by 2 * dt0 at t1\n",
    "  saveat_t0_t1_2 = SaveAt(ts=jnp.arange(t0 , t1 + dt0 , 2 * dt0) , t0=save_t0 , t1=save_t1)\n",
    "  # Getting steps starting after t0 and jumping steps by 2 * dt0 at t1\n",
    "  saveat_tx_t1_2 = SaveAt(ts=jnp.arange(t0 + dt0 , t1 + dt0 , 2 * dt0) , t0=save_t0 , t1=save_t1)\n",
    "\n",
    "  for saveat in [saveat_t0_t1 , saveat_t0_tx , saveat_tx_t1 , saveat_tx_tx , saveat_t0_tx_2 , saveat_tx_tx_2 , saveat_t0_t1_2 , saveat_tx_t1_2]:\n",
    "\n",
    "    def fn(t , y , args):\n",
    "      y =  jax.tree.map(lambda x : 2 * x + t * args , y)\n",
    "\n",
    "      return y[0] + y[1]\n",
    "\n",
    "    diffrax_fwd = diffrax_integrate(ode_terms , solver , y0, args, t0, t1, dt0 , saveat)\n",
    "    my_fwd = integrate(y0, args, ode_terms , solver , t0, t1, dt0 , saveat)\n",
    "\n",
    "    assert check_tree(my_fwd , diffrax_fwd)\n",
    "    print(f\"ok for saveat {saveat.subs.ts} with t0={saveat.subs.t0} and t1={saveat.subs.t1}\")\n",
    "\n"
   ]
  },
  {
   "cell_type": "code",
   "execution_count": 7,
   "metadata": {},
   "outputs": [
    {
     "name": "stdout",
     "output_type": "stream",
     "text": [
      "ok for saveat [ 0.  1.  2.  3.  4.  5.  6.  7.  8.  9. 10.] with t0=True and t1=True\n",
      "ok for saveat [0. 1. 2. 3. 4. 5. 6. 7. 8. 9.] with t0=True and t1=True\n",
      "ok for saveat [ 1.  2.  3.  4.  5.  6.  7.  8.  9. 10.] with t0=True and t1=True\n",
      "ok for saveat [1. 2. 3. 4. 5. 6. 7. 8.] with t0=True and t1=True\n",
      "ok for saveat [ 0.  2.  4.  6.  8. 10.] with t0=True and t1=True\n",
      "ok for saveat [1. 3. 5. 7. 9.] with t0=True and t1=True\n",
      "ok for saveat [ 0.  2.  4.  6.  8. 10.] with t0=True and t1=True\n",
      "ok for saveat [1. 3. 5. 7. 9.] with t0=True and t1=True\n",
      "ok for saveat [ 0.  1.  2.  3.  4.  5.  6.  7.  8.  9. 10.] with t0=True and t1=False\n",
      "ok for saveat [0. 1. 2. 3. 4. 5. 6. 7. 8. 9.] with t0=True and t1=False\n",
      "ok for saveat [ 1.  2.  3.  4.  5.  6.  7.  8.  9. 10.] with t0=True and t1=False\n",
      "ok for saveat [1. 2. 3. 4. 5. 6. 7. 8.] with t0=True and t1=False\n",
      "ok for saveat [ 0.  2.  4.  6.  8. 10.] with t0=True and t1=False\n",
      "ok for saveat [1. 3. 5. 7. 9.] with t0=True and t1=False\n",
      "ok for saveat [ 0.  2.  4.  6.  8. 10.] with t0=True and t1=False\n",
      "ok for saveat [1. 3. 5. 7. 9.] with t0=True and t1=False\n",
      "ok for saveat [ 0.  1.  2.  3.  4.  5.  6.  7.  8.  9. 10.] with t0=False and t1=True\n",
      "ok for saveat [0. 1. 2. 3. 4. 5. 6. 7. 8. 9.] with t0=False and t1=True\n",
      "ok for saveat [ 1.  2.  3.  4.  5.  6.  7.  8.  9. 10.] with t0=False and t1=True\n",
      "ok for saveat [1. 2. 3. 4. 5. 6. 7. 8.] with t0=False and t1=True\n",
      "ok for saveat [ 0.  2.  4.  6.  8. 10.] with t0=False and t1=True\n",
      "ok for saveat [1. 3. 5. 7. 9.] with t0=False and t1=True\n",
      "ok for saveat [ 0.  2.  4.  6.  8. 10.] with t0=False and t1=True\n",
      "ok for saveat [1. 3. 5. 7. 9.] with t0=False and t1=True\n",
      "ok for saveat [ 0.  1.  2.  3.  4.  5.  6.  7.  8.  9. 10.] with t0=False and t1=False\n",
      "ok for saveat [0. 1. 2. 3. 4. 5. 6. 7. 8. 9.] with t0=False and t1=False\n",
      "ok for saveat [ 1.  2.  3.  4.  5.  6.  7.  8.  9. 10.] with t0=False and t1=False\n",
      "ok for saveat [1. 2. 3. 4. 5. 6. 7. 8.] with t0=False and t1=False\n",
      "ok for saveat [ 0.  2.  4.  6.  8. 10.] with t0=False and t1=False\n",
      "ok for saveat [1. 3. 5. 7. 9.] with t0=False and t1=False\n",
      "ok for saveat [ 0.  2.  4.  6.  8. 10.] with t0=False and t1=False\n",
      "ok for saveat [1. 3. 5. 7. 9.] with t0=False and t1=False\n"
     ]
    }
   ],
   "source": [
    "y0 = (1.0, 1.0)\n",
    "args = 2.0\n",
    "\n",
    "t0 = 0.0\n",
    "t1 = 10.0\n",
    "dt0 = 1\n",
    "\n",
    "\n",
    "for save_t0 , save_t1 in product([True, False], repeat=2):\n",
    "  # Starting and ending t0 and t1\n",
    "  saveat_t0_t1 = SaveAt(ts=jnp.arange(t0 , t1 + dt0 , dt0) , t0=save_t0 , t1=save_t1)\n",
    "  # Starting t0 and ending before t1\n",
    "  saveat_t0_tx = SaveAt(ts=jnp.arange(t0 , t1 , dt0) , t0=save_t0 , t1=save_t1)\n",
    "  # Starting after t0 and ending at t1\n",
    "  saveat_tx_t1 = SaveAt(ts=jnp.arange(t0 + dt0 , t1 + dt0 , dt0) , t0=save_t0 , t1=save_t1)\n",
    "  # Starting after t0 and ending before t1\n",
    "  saveat_tx_tx = SaveAt(ts=jnp.arange(t0 + dt0 , t1 - dt0 , dt0) , t0=save_t0 , t1=save_t1)\n",
    "  # Getting steps starting from t0 and jumping steps by 2 * dt0 before t1\n",
    "  saveat_t0_tx_2 = SaveAt(ts=jnp.arange(t0 , t1 + dt0 , 2 * dt0) , t0=save_t0 , t1=save_t1)\n",
    "  # Gettings steps starting after t0 and jumping steps by 2 * dt0 before t1\n",
    "  saveat_tx_tx_2 = SaveAt(ts=jnp.arange(t0 + dt0 , t1 + dt0 , 2 * dt0) , t0=save_t0 , t1=save_t1)\n",
    "  # Getting steps starting from t0 and jumping steps by 2 * dt0 at t1\n",
    "  saveat_t0_t1_2 = SaveAt(ts=jnp.arange(t0 , t1 + dt0 , 2 * dt0) , t0=save_t0 , t1=save_t1)\n",
    "  # Getting steps starting after t0 and jumping steps by 2 * dt0 at t1\n",
    "  saveat_tx_t1_2 = SaveAt(ts=jnp.arange(t0 + dt0 , t1 + dt0 , 2 * dt0) , t0=save_t0 , t1=save_t1)\n",
    "\n",
    "  for saveat in [saveat_t0_t1 , saveat_t0_tx , saveat_tx_t1 , saveat_tx_tx , saveat_t0_tx_2 , saveat_tx_tx_2 , saveat_t0_t1_2 , saveat_tx_t1_2]:\n",
    "\n",
    "    def fn(t , y , args):\n",
    "      y =  jax.tree.map(lambda x : 2 * x + t * args , y)\n",
    "\n",
    "      return y[0] + y[1]\n",
    "\n",
    "    diffrax_bwd = jax.jacrev(diffrax_integrate , argnums=(2 ,3))(ode_terms , solver , y0, args, t0, t1, dt0 , saveat)\n",
    "    my_bwd = jax.jacrev(integrate , argnums=(0 , 1))(y0, args, ode_terms , solver , t0, t1, dt0 , saveat)\n",
    "\n",
    "    assert check_tree(my_bwd , diffrax_bwd)\n",
    "    print(f\"ok for saveat {saveat.subs.ts} with t0={saveat.subs.t0} and t1={saveat.subs.t1}\")\n",
    "\n"
   ]
  },
  {
   "cell_type": "code",
   "execution_count": 48,
   "metadata": {},
   "outputs": [],
   "source": [
    "def fn(t , y , args):\n",
    "  y =  jax.tree.map(lambda x : 2 * x + t * args**4 , y)\n",
    "\n",
    "  return y[0] + y[1]\n",
    "  \n",
    "saveat = SaveAt(ts=[3 , 8] , t1=save_t1 , fn=fn)\n",
    "\n",
    "t0 = 0.0\n",
    "t1 = 10.0\n",
    "dt0 = 0.5\n",
    "\n",
    "@jax.jit\n",
    "@partial(jax.jacrev , argnums=(0 , 1))\n",
    "def wrapped_integrate(y0 , args):\n",
    "    return integrate(y0 , args , ode_terms , solver , t0 , t1 , dt0 , saveat)\n",
    "\n",
    "@jax.jit\n",
    "@partial(jax.jacrev , argnums=(0 , 1))\n",
    "def wrapped_jax_integrate(y0 , args):\n",
    "    return scan_integrate( y0 , args , ode_terms , solver  , t0 , t1 , dt0 , saveat)  \n",
    "\n",
    "\n",
    "@jax.jit\n",
    "@partial(jax.jacrev , argnums=(0 , 1))\n",
    "def wrapped_diffrax_integrate(y0 , args):\n",
    "    return diffrax_integrate(ode_terms , solver  , y0 , args , t0 , t1 , dt0 , saveat , checkpoints=10)"
   ]
  },
  {
   "cell_type": "code",
   "execution_count": 38,
   "metadata": {},
   "outputs": [
    {
     "name": "stdout",
     "output_type": "stream",
     "text": [
      "432 μs ± 81.6 μs per loop (mean ± std. dev. of 7 runs, 1 loop each)\n",
      "2.19 ms ± 462 μs per loop (mean ± std. dev. of 7 runs, 1 loop each)\n",
      "86.4 ms ± 1.89 ms per loop (mean ± std. dev. of 7 runs, 1 loop each)\n"
     ]
    }
   ],
   "source": [
    "%timeit wrapped_jax_integrate(y0 , args)[0][-1].block_until_ready()  \n",
    "%timeit wrapped_integrate(y0 , args)[0][-1].block_until_ready()  \n",
    "%timeit wrapped_diffrax_integrate(y0 , args)[0][-1].block_until_ready()  "
   ]
  },
  {
   "cell_type": "code",
   "execution_count": 36,
   "metadata": {},
   "outputs": [
    {
     "name": "stdout",
     "output_type": "stream",
     "text": [
      "Jax memory is 2736 , My memory is 2689 , Diffrax memory is 16080\n"
     ]
    }
   ],
   "source": [
    "jax_mem = wrapped_jax_integrate.lower(y0 , args).compile().memory_analysis().temp_size_in_bytes\n",
    "my_mem = wrapped_integrate.lower(y0 , args).compile().memory_analysis().temp_size_in_bytes\n",
    "diffrax_mem = wrapped_diffrax_integrate.lower(y0 , args).compile().memory_analysis().temp_size_in_bytes\n",
    "\n",
    "print(f\"Jax memory is {jax_mem} , My memory is {my_mem} , Diffrax memory is {diffrax_mem}\")"
   ]
  },
  {
   "cell_type": "code",
   "execution_count": 45,
   "metadata": {},
   "outputs": [
    {
     "name": "stdout",
     "output_type": "stream",
     "text": [
      "Jax memory is 2872 , My memory is 2561 , Diffrax memory is 16344\n"
     ]
    }
   ],
   "source": [
    "\n",
    "jax_mem = wrapped_jax_integrate.lower(y0 , args).compile().memory_analysis().temp_size_in_bytes\n",
    "my_mem = wrapped_integrate.lower(y0 , args).compile().memory_analysis().temp_size_in_bytes\n",
    "diffrax_mem = wrapped_diffrax_integrate.lower(y0 , args).compile().memory_analysis().temp_size_in_bytes\n",
    "\n",
    "print(f\"Jax memory is {jax_mem} , My memory is {my_mem} , Diffrax memory is {diffrax_mem}\")"
   ]
  },
  {
   "cell_type": "code",
   "execution_count": 49,
   "metadata": {},
   "outputs": [
    {
     "data": {
      "text/plain": [
       "((Array([  33.674805, 4748.88    ], dtype=float32, weak_type=True),\n",
       "  Array([  43.101074, 6082.253   ], dtype=float32, weak_type=True)),\n",
       " Array([ 236.93848, 8933.692  ], dtype=float32, weak_type=True))"
      ]
     },
     "execution_count": 49,
     "metadata": {},
     "output_type": "execute_result"
    }
   ],
   "source": [
    "wrapped_integrate(y0 , args)"
   ]
  },
  {
   "cell_type": "code",
   "execution_count": null,
   "metadata": {},
   "outputs": [
    {
     "data": {
      "text/plain": [
       "((Array([  33.674805, 4748.88    ], dtype=float32, weak_type=True),\n",
       "  Array([  43.101074, 6082.253   ], dtype=float32, weak_type=True)),\n",
       " Array([ 236.93848, 8933.692  ], dtype=float32, weak_type=True))"
      ]
     },
     "execution_count": 50,
     "metadata": {},
     "output_type": "execute_result"
    },
    {
     "ename": "",
     "evalue": "",
     "output_type": "error",
     "traceback": [
      "\u001b[1;31mThe Kernel crashed while executing code in the current cell or a previous cell. \n",
      "\u001b[1;31mPlease review the code in the cell(s) to identify a possible cause of the failure. \n",
      "\u001b[1;31mClick <a href='https://aka.ms/vscodeJupyterKernelCrash'>here</a> for more info. \n",
      "\u001b[1;31mView Jupyter <a href='command:jupyter.viewOutput'>log</a> for further details."
     ]
    }
   ],
   "source": [
    "wrapped_diffrax_integrate(y0 , args)"
   ]
  }
 ],
 "metadata": {
  "kernelspec": {
   "display_name": "Python 3",
   "language": "python",
   "name": "python3"
  },
  "language_info": {
   "codemirror_mode": {
    "name": "ipython",
    "version": 3
   },
   "file_extension": ".py",
   "mimetype": "text/x-python",
   "name": "python",
   "nbconvert_exporter": "python",
   "pygments_lexer": "ipython3",
   "version": "3.10.4"
  }
 },
 "nbformat": 4,
 "nbformat_minor": 2
}
